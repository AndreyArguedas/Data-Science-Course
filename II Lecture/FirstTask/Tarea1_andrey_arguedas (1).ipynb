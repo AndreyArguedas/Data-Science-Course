{
 "cells": [
  {
   "cell_type": "markdown",
   "metadata": {},
   "source": [
    "## Tarea #1 Minería de Datos"
   ]
  },
  {
   "cell_type": "markdown",
   "metadata": {},
   "source": [
    "## Autor : Andrey Arguedas Espinoza"
   ]
  },
  {
   "cell_type": "markdown",
   "metadata": {},
   "source": [
    "### 1. Dado x = (3,−5,31,−1,−9,10,0,18) y dado y = (1,1,−3,1,−99,−10,10,−7) realice lo siguiente:"
   ]
  },
  {
   "attachments": {},
   "cell_type": "markdown",
   "metadata": {},
   "source": [
    "#### • Introduzca x y y como listas en Python."
   ]
  },
  {
   "cell_type": "code",
   "execution_count": 6,
   "metadata": {},
   "outputs": [
    {
     "name": "stdout",
     "output_type": "stream",
     "text": [
      "[3, -5, 31, -1, -9, 10, 0, 18]\n",
      "[1, 1, -3, 1, -99, -10, 10, -7]\n"
     ]
    }
   ],
   "source": [
    "x = [3,-5,31,-1,-9,10,0,18]\n",
    "y = [1,1,-3,1,-99,-10,10,-7]\n",
    "\n",
    "print(x)\n",
    "print(y)"
   ]
  },
  {
   "cell_type": "markdown",
   "metadata": {},
   "source": [
    "#### • Calcule la media, la varianza y la desviacio´n est´andar de x."
   ]
  },
  {
   "cell_type": "code",
   "execution_count": 19,
   "metadata": {},
   "outputs": [
    {
     "name": "stdout",
     "output_type": "stream",
     "text": [
      "Media -13.25\n",
      "Deviacion estandar 32.89661836724255\n",
      "Varianza 1082.1875\n"
     ]
    }
   ],
   "source": [
    "import numpy as np\n",
    "\n",
    "media = np.mean(y)\n",
    "deviacion = np.std(y)\n",
    "varianza = np.var(y)\n",
    "\n",
    "print(\"Media\", media)\n",
    "print(\"Deviacion estandar\",deviacion)\n",
    "print(\"Varianza\", varianza)"
   ]
  },
  {
   "cell_type": "markdown",
   "metadata": {},
   "source": [
    "#### • Calcule la media, la varianza y la desviacio´n est´andar de x. "
   ]
  },
  {
   "cell_type": "code",
   "execution_count": 8,
   "metadata": {},
   "outputs": [
    {
     "data": {
      "text/plain": [
       "array([[1.        , 0.36596793],\n",
       "       [0.36596793, 1.        ]])"
      ]
     },
     "execution_count": 8,
     "metadata": {},
     "output_type": "execute_result"
    }
   ],
   "source": [
    "np.corrcoef(x, y)"
   ]
  },
  {
   "cell_type": "markdown",
   "metadata": {},
   "source": [
    "#### • Escriba comandos en Python para extraer las entradas 2 a la 7 de x."
   ]
  },
  {
   "cell_type": "code",
   "execution_count": 9,
   "metadata": {},
   "outputs": [
    {
     "data": {
      "text/plain": [
       "[31, -1, -9, 10, 0, 18]"
      ]
     },
     "execution_count": 9,
     "metadata": {},
     "output_type": "execute_result"
    }
   ],
   "source": [
    "x[2:8]"
   ]
  },
  {
   "cell_type": "markdown",
   "metadata": {},
   "source": [
    "#### • Escriba comandos en Python para extraer las entradas de y excepto la 2 y la 7."
   ]
  },
  {
   "cell_type": "code",
   "execution_count": 10,
   "metadata": {},
   "outputs": [
    {
     "data": {
      "text/plain": [
       "[1, 1, 1, -99, -10, 10]"
      ]
     },
     "execution_count": 10,
     "metadata": {},
     "output_type": "execute_result"
    }
   ],
   "source": [
    "list(filter(lambda e : y.index(e) not in (2, 7), y))"
   ]
  },
  {
   "cell_type": "markdown",
   "metadata": {},
   "source": [
    "#### • Escriba comandos en Python para extraer las entradas de y menores a -3 o mayores a 10."
   ]
  },
  {
   "cell_type": "code",
   "execution_count": 11,
   "metadata": {},
   "outputs": [
    {
     "data": {
      "text/plain": [
       "[-99, -10, -7]"
      ]
     },
     "execution_count": 11,
     "metadata": {},
     "output_type": "execute_result"
    }
   ],
   "source": [
    "list(filter(lambda x: x < -3 or x > 10, y))"
   ]
  },
  {
   "cell_type": "markdown",
   "metadata": {},
   "source": [
    "#### • Escriba comandos en Python para extraer las entradas de x mayores a 0 y que sean n´umeros pares"
   ]
  },
  {
   "cell_type": "code",
   "execution_count": 12,
   "metadata": {},
   "outputs": [
    {
     "data": {
      "text/plain": [
       "[10, 18]"
      ]
     },
     "execution_count": 12,
     "metadata": {},
     "output_type": "execute_result"
    }
   ],
   "source": [
    "list(filter(lambda e: e > 0 and e % 2 == 0, x))"
   ]
  },
  {
   "cell_type": "markdown",
   "metadata": {},
   "source": [
    "### 2. Usando c´odigo Python (no archivos) en un DataFrame la siguiente tabla de datos:"
   ]
  },
  {
   "cell_type": "raw",
   "metadata": {},
   "source": [
    "Peso Edad Nivel Educativo\n",
    "76 25 Lic\n",
    "67 23 Bach\n",
    "55 19 Bach\n",
    "57 18 Bach\n",
    "87 57 Dr\n",
    "48 13 MSc"
   ]
  },
  {
   "cell_type": "code",
   "execution_count": 13,
   "metadata": {},
   "outputs": [
    {
     "name": "stdout",
     "output_type": "stream",
     "text": [
      "   Peso  Edad Nivel Educativo\n",
      "0    76    25             Lic\n",
      "1    67    23            Bach\n",
      "2    55    19            Bach\n",
      "3    57    18            Bach\n",
      "4    87    57              Dr\n",
      "5    48    13             MSc\n"
     ]
    }
   ],
   "source": [
    "import pandas as pd\n",
    "\n",
    "datos = {'Peso': [76, 67, 55, 57, 87, 48],\n",
    "         'Edad': [25, 23, 19, 18, 57, 13],\n",
    "         'Nivel Educativo': [\"Lic\", \"Bach\", \"Bach\", \"Bach\", \"Dr\", \"MSc\"]\n",
    "         }\n",
    "datos_pandas = pd.DataFrame(datos)\n",
    "print(datos_pandas)"
   ]
  },
  {
   "cell_type": "markdown",
   "metadata": {},
   "source": [
    "### 3. Genere una hoja de datos (“data frame”) a partir de la siguiente tabla de datos y verifique que las variables tengan el tipo de dato adecuado.\n",
    "\n",
    "id: Identificador ´unico del estudiante.\n",
    "\n",
    "calificacion: Nota o calificaci´on obtenida en una escala descendente de la A a la D.\n",
    "\n",
    "duracion: Cantidad de minutos requeridos para realizar la prueba."
   ]
  },
  {
   "cell_type": "raw",
   "metadata": {},
   "source": [
    "id calificacion duracion\n",
    "1 B 64\n",
    "2 C 85\n",
    "3 B 76\n",
    "4 A 83\n",
    "5 A 80\n",
    "6 A 78\n",
    "7 C 68\n",
    "8 B 82\n",
    "9 A 89\n",
    "10 B 61\n"
   ]
  },
  {
   "cell_type": "code",
   "execution_count": 14,
   "metadata": {},
   "outputs": [
    {
     "name": "stdout",
     "output_type": "stream",
     "text": [
      "   calificacion  duracion\n",
      "id                       \n",
      "1             B        64\n",
      "2             C        85\n",
      "3             B        76\n",
      "4             A        83\n",
      "5             A        80\n",
      "6             A        78\n",
      "7             C        68\n",
      "8             B        82\n",
      "9             A        89\n",
      "10            B        61\n"
     ]
    }
   ],
   "source": [
    "datos = {'calificacion': [\"B\", \"C\", \"B\", \"A\", \"A\", \"A\", \"C\", \"B\", \"A\", \"B\"],\n",
    "         'duracion': [64, 85, 76, 83, 80, 78, 68, 82, 89, 61]\n",
    "         }\n",
    "datos_pandas = pd.DataFrame(datos)\n",
    "datos_pandas.index = np.arange(1,len(datos_pandas)+1)\n",
    "datos_pandas.index.name = \"id\"\n",
    "print(datos_pandas)"
   ]
  },
  {
   "cell_type": "markdown",
   "metadata": {},
   "source": [
    "### 4. Dado x = (24, 28, 29, 18, 95, 97, 90, 72, 87, 85, 74, 9, 40) realice las siguiente operaciones:"
   ]
  },
  {
   "cell_type": "markdown",
   "metadata": {},
   "source": [
    "#### • Indique los ´ındices de los valores o entradas del vector cuya divisi´on entre 2 tiene como\n",
    "resultado 45."
   ]
  },
  {
   "cell_type": "code",
   "execution_count": 15,
   "metadata": {},
   "outputs": [
    {
     "data": {
      "text/plain": [
       "[6]"
      ]
     },
     "execution_count": 15,
     "metadata": {},
     "output_type": "execute_result"
    }
   ],
   "source": [
    "x = (24, 28, 29, 18, 95, 97, 90, 72, 87, 85, 74, 9, 40)\n",
    "indices = []\n",
    "for element in x:\n",
    "    if element / 2 == 45:\n",
    "        indices.append(x.index(element))\n",
    "\n",
    "indices"
   ]
  },
  {
   "cell_type": "markdown",
   "metadata": {},
   "source": [
    "#### •Indique el ´ındice del valor m´as alto del vector."
   ]
  },
  {
   "cell_type": "code",
   "execution_count": 16,
   "metadata": {},
   "outputs": [
    {
     "data": {
      "text/plain": [
       "5"
      ]
     },
     "execution_count": 16,
     "metadata": {},
     "output_type": "execute_result"
    }
   ],
   "source": [
    "x.index(max(x))"
   ]
  },
  {
   "cell_type": "markdown",
   "metadata": {},
   "source": [
    "#### • Indique el resultado de la suma de los valores (entradas del vector) menores a la media del vector.\n"
   ]
  },
  {
   "cell_type": "code",
   "execution_count": 17,
   "metadata": {},
   "outputs": [
    {
     "data": {
      "text/plain": [
       "148"
      ]
     },
     "execution_count": 17,
     "metadata": {},
     "output_type": "execute_result"
    }
   ],
   "source": [
    "from functools import reduce\n",
    "\n",
    "media = np.mean(x)\n",
    "\n",
    "reduce((lambda x, y: x + y), list(filter(lambda e: e < media, x)))"
   ]
  },
  {
   "cell_type": "markdown",
   "metadata": {},
   "source": [
    "#### • Utilizando el operador l´ogico and (“y”l´ogico) indique cu´ales los valores del vector que son mayores a la media del vector y que sean divisibles entre 2.\n"
   ]
  },
  {
   "cell_type": "code",
   "execution_count": 20,
   "metadata": {},
   "outputs": [
    {
     "data": {
      "text/plain": [
       "[90, 72, 74]"
      ]
     },
     "execution_count": 20,
     "metadata": {},
     "output_type": "execute_result"
    }
   ],
   "source": [
    "media = np.mean(x)\n",
    "\n",
    "list(filter(lambda e: e > media and e % 2 == 0, x))"
   ]
  },
  {
   "cell_type": "markdown",
   "metadata": {},
   "source": [
    "### 5. Para las variables almacenadas de la siguiente forma v1 = (2,7,6,4,52), v2 = (7,5,7,0,1)) y v3 = (2,4,3,5,6) usando el comando sum calcule la sumatoria de cada una de esas variables. Repita lo anterior usando un for(...)."
   ]
  },
  {
   "cell_type": "code",
   "execution_count": 23,
   "metadata": {},
   "outputs": [
    {
     "name": "stdout",
     "output_type": "stream",
     "text": [
      "Sum v1 71\n",
      "Sum v2 20\n",
      "Sum v3 20\n",
      "--------------------\n",
      "Suma v1 71\n",
      "Suma v2 20\n",
      "Suma v3 20\n"
     ]
    }
   ],
   "source": [
    "v1 = (2,7,6,4,52)\n",
    "v2 = (7,5,7,0,1)\n",
    "v3 = (2,4,3,5,6)\n",
    "\n",
    "print(\"Sum v1\", sum(v1))\n",
    "\n",
    "print(\"Sum v2\", sum(v2))\n",
    "\n",
    "print(\"Sum v3\", sum(v3))\n",
    "\n",
    "def suma(v):\n",
    "    acum = 0\n",
    "    for i in v:\n",
    "        acum += i\n",
    "    return acum\n",
    "\n",
    "print(\"--------------------\")\n",
    "\n",
    "print(\"Suma v1\", suma(v1))\n",
    "\n",
    "print(\"Suma v2\", suma(v2))\n",
    "\n",
    "print(\"Suma v3\", suma(v3))"
   ]
  },
  {
   "cell_type": "markdown",
   "metadata": {},
   "source": [
    "### 6. Dado x = (24, 28, 29, 18, 95, 97, 90, 72, 87, 85, 74, 9, 40) construya una lista llamada lista1 que tenga 3 campos Media, M´aximo y M´ınimo que tienen la media, el m´aximo y el m´ınimo respectivamente del vector x"
   ]
  },
  {
   "cell_type": "code",
   "execution_count": 24,
   "metadata": {},
   "outputs": [
    {
     "name": "stdout",
     "output_type": "stream",
     "text": [
      "[57.53846153846154, 97, 9]\n"
     ]
    }
   ],
   "source": [
    "x = (24, 28, 29, 18, 95, 97, 90, 72, 87, 85, 74, 9, 40)\n",
    "lista1 = [np.mean(x), max(x), min(x)]\n",
    "print(lista1)"
   ]
  },
  {
   "attachments": {
    "image.png": {
     "image/png": "[encoded data removed]"
    }
   },
   "cell_type": "markdown",
   "metadata": {},
   "source": [
    "![image.png](attachment:image.png)"
   ]
  },
  {
   "cell_type": "code",
   "execution_count": 25,
   "metadata": {},
   "outputs": [
    {
     "name": "stdout",
     "output_type": "stream",
     "text": [
      "[[191   5  -4]\n",
      " [ -5  19   9]]\n"
     ]
    }
   ],
   "source": [
    "import numpy as np\n",
    "\n",
    "M1 = np.matrix([[9, 3, 4], [1, 3, -1]])\n",
    "M2 = np.matrix([[91, -3], [1, 8], [-4, 5]])\n",
    "A = M1 + 2 * np.transpose(M2)\n",
    "print(A)"
   ]
  },
  {
   "cell_type": "code",
   "execution_count": null,
   "metadata": {},
   "outputs": [],
   "source": []
  }
 ],
 "metadata": {
  "kernelspec": {
   "display_name": "Python 3",
   "language": "python",
   "name": "python3"
  },
  "language_info": {
   "codemirror_mode": {
    "name": "ipython",
    "version": 3
   },
   "file_extension": ".py",
   "mimetype": "text/x-python",
   "name": "python",
   "nbconvert_exporter": "python",
   "pygments_lexer": "ipython3",
   "version": "3.7.1"
  }
 },
 "nbformat": 4,
 "nbformat_minor": 2
}
