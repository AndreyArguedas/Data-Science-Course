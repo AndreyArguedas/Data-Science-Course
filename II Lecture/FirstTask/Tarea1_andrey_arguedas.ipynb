{
 "cells": [
  {
   "cell_type": "markdown",
   "metadata": {},
   "source": [
    "Tarea #1 Minería de Datos"
   ]
  },
  {
   "cell_type": "markdown",
   "metadata": {},
   "source": [
    "Autor : Andrey Arguedas Espinoza"
   ]
  },
  {
   "cell_type": "markdown",
   "metadata": {},
   "source": [
    "1. Dado x = (3,−5,31,−1,−9,10,0,18) y dado y = (1,1,−3,1,−99,−10,10,−7) realice lo siguiente:"
   ]
  },
  {
   "cell_type": "markdown",
   "metadata": {},
   "source": [
    "• Introduzca x y y como listas en Python."
   ]
  },
  {
   "cell_type": "code",
   "execution_count": 7,
   "metadata": {},
   "outputs": [
    {
     "name": "stdout",
     "output_type": "stream",
     "text": [
      "[3, -5, 31, -1, -9, 10, 0, 18]\n",
      "[1, 1, -3, 1, -99, -10, 10, -7]\n"
     ]
    }
   ],
   "source": [
    "x = [3,-5,31,-1,-9,10,0,18]\n",
    "y = [1,1,-3,1,-99,-10,10,-7]\n",
    "\n",
    "print(x)\n",
    "print(y)"
   ]
  },
  {
   "cell_type": "markdown",
   "metadata": {},
   "source": [
    "• Calcule la media, la varianza y la desviacio´n est´andar de x."
   ]
  },
  {
   "cell_type": "code",
   "execution_count": 5,
   "metadata": {},
   "outputs": [
    {
     "name": "stdout",
     "output_type": "stream",
     "text": [
      "-13.25\n",
      "32.89661836724255\n",
      "1082.1875\n"
     ]
    }
   ],
   "source": [
    "import numpy as np\n",
    "\n",
    "media = np.mean(y)\n",
    "deviacion = np.std(y)\n",
    "varianza = np.var(y)\n",
    "\n",
    "print(media)\n",
    "print(deviacion)\n",
    "print(varianza)"
   ]
  },
  {
   "cell_type": "markdown",
   "metadata": {},
   "source": [
    "• Calcule la media, la varianza y la desviacio´n est´andar de x. "
   ]
  },
  {
   "cell_type": "code",
   "execution_count": 3,
   "metadata": {},
   "outputs": [
    {
     "data": {
      "text/plain": [
       "array([[1.        , 0.36596793],\n",
       "       [0.36596793, 1.        ]])"
      ]
     },
     "execution_count": 3,
     "metadata": {},
     "output_type": "execute_result"
    }
   ],
   "source": [
    "np.corrcoef(x, y)"
   ]
  },
  {
   "cell_type": "markdown",
   "metadata": {},
   "source": [
    "• Escriba comandos en Python para extraer las entradas 2 a la 7 de x."
   ]
  },
  {
   "cell_type": "code",
   "execution_count": 8,
   "metadata": {},
   "outputs": [
    {
     "data": {
      "text/plain": [
       "[31, -1, -9, 10, 0, 18]"
      ]
     },
     "execution_count": 8,
     "metadata": {},
     "output_type": "execute_result"
    }
   ],
   "source": [
    "x[2:8]"
   ]
  },
  {
   "cell_type": "markdown",
   "metadata": {},
   "source": [
    "• Escriba comandos en Python para extraer las entradas de y excepto la 2 y la 7."
   ]
  },
  {
   "cell_type": "code",
   "execution_count": 11,
   "metadata": {},
   "outputs": [
    {
     "data": {
      "text/plain": [
       "[1, 1, 1, -99, -10, 10]"
      ]
     },
     "execution_count": 11,
     "metadata": {},
     "output_type": "execute_result"
    }
   ],
   "source": [
    "list(filter(lambda e : y.index(e) not in (2, 7), y))"
   ]
  },
  {
   "cell_type": "markdown",
   "metadata": {},
   "source": [
    "• Escriba comandos en Python para extraer las entradas de y menores a -3 o mayores a 10."
   ]
  },
  {
   "cell_type": "code",
   "execution_count": 10,
   "metadata": {},
   "outputs": [
    {
     "data": {
      "text/plain": [
       "[-99, -10, -7]"
      ]
     },
     "execution_count": 10,
     "metadata": {},
     "output_type": "execute_result"
    }
   ],
   "source": [
    "list(filter(lambda x: x < -3 or x > 10, y))"
   ]
  },
  {
   "cell_type": "markdown",
   "metadata": {},
   "source": [
    "• Escriba comandos en Python para extraer las entradas de x mayores a 0 y que sean n´umeros pares"
   ]
  },
  {
   "cell_type": "code",
   "execution_count": 12,
   "metadata": {},
   "outputs": [
    {
     "data": {
      "text/plain": [
       "[10, 18]"
      ]
     },
     "execution_count": 12,
     "metadata": {},
     "output_type": "execute_result"
    }
   ],
   "source": [
    "list(filter(lambda e: e > 0 and e % 2 == 0, x))"
   ]
  },
  {
   "cell_type": "markdown",
   "metadata": {},
   "source": [
    "2. Usando c´odigo Python (no archivos) en un DataFrame la siguiente tabla de datos:"
   ]
  },
  {
   "cell_type": "raw",
   "metadata": {},
   "source": [
    "Peso Edad Nivel Educativo\n",
    "76 25 Lic\n",
    "67 23 Bach\n",
    "55 19 Bach\n",
    "57 18 Bach\n",
    "87 57 Dr\n",
    "48 13 MSc"
   ]
  },
  {
   "cell_type": "code",
   "execution_count": 13,
   "metadata": {},
   "outputs": [
    {
     "name": "stdout",
     "output_type": "stream",
     "text": [
      "   Peso  Edad Nivel Educativo\n",
      "0    76    25             Lic\n",
      "1    67    23            Bach\n",
      "2    55    19            Bach\n",
      "3    57    18            Bach\n",
      "4    87    57              Dr\n",
      "5    48    13             MSc\n"
     ]
    }
   ],
   "source": [
    "import pandas as pd\n",
    "\n",
    "datos = {'Peso': [76, 67, 55, 57, 87, 48],\n",
    "         'Edad': [25, 23, 19, 18, 57, 13],\n",
    "         'Nivel Educativo': [\"Lic\", \"Bach\", \"Bach\", \"Bach\", \"Dr\", \"MSc\"]\n",
    "         }\n",
    "datos_pandas = pd.DataFrame(datos)\n",
    "print(datos_pandas)"
   ]
  },
  {
   "cell_type": "markdown",
   "metadata": {},
   "source": [
    "3. Genere una hoja de datos (“data frame”) a partir de la siguiente tabla de datos y verifique que\n",
    "las variables tengan el tipo de dato adecuado.\n",
    "1\n",
    "id: Identificador ´unico del estudiante.\n",
    "calificacion: Nota o calificaci´on obtenida en una escala descendente de la A a la D.\n",
    "duracion: Cantidad de minutos requeridos para realizar la prueba."
   ]
  },
  {
   "cell_type": "raw",
   "metadata": {},
   "source": [
    "id calificacion duracion\n",
    "1 B 64\n",
    "2 C 85\n",
    "3 B 76\n",
    "4 A 83\n",
    "5 A 80\n",
    "6 A 78\n",
    "7 C 68\n",
    "8 B 82\n",
    "9 A 89\n",
    "10 B 61\n"
   ]
  },
  {
   "cell_type": "code",
   "execution_count": 14,
   "metadata": {},
   "outputs": [
    {
     "name": "stdout",
     "output_type": "stream",
     "text": [
      "   calificacion  duracion\n",
      "id                       \n",
      "1             B        64\n",
      "2             C        85\n",
      "3             B        76\n",
      "4             A        83\n",
      "5             A        80\n",
      "6             A        78\n",
      "7             C        68\n",
      "8             B        82\n",
      "9             A        89\n",
      "10            B        61\n"
     ]
    }
   ],
   "source": [
    "datos = {'calificacion': [\"B\", \"C\", \"B\", \"A\", \"A\", \"A\", \"C\", \"B\", \"A\", \"B\"],\n",
    "         'duracion': [64, 85, 76, 83, 80, 78, 68, 82, 89, 61]\n",
    "         }\n",
    "datos_pandas = pd.DataFrame(datos)\n",
    "datos_pandas.index = np.arange(1,len(datos_pandas)+1)\n",
    "datos_pandas.index.name = \"id\"\n",
    "print(datos_pandas)"
   ]
  },
  {
   "cell_type": "markdown",
   "metadata": {},
   "source": [
    "4. Dado x = (24, 28, 29, 18, 95, 97, 90, 72, 87, 85, 74, 9, 40) realice las siguiente operaciones:"
   ]
  },
  {
   "cell_type": "markdown",
   "metadata": {},
   "source": [
    "• Indique los ´ındices de los valores o entradas del vector cuya divisi´on entre 2 tiene como\n",
    "resultado 45."
   ]
  },
  {
   "cell_type": "code",
   "execution_count": null,
   "metadata": {},
   "outputs": [],
   "source": []
  }
 ],
 "metadata": {
  "kernelspec": {
   "display_name": "Python 3",
   "language": "python",
   "name": "python3"
  },
  "language_info": {
   "codemirror_mode": {
    "name": "ipython",
    "version": 3
   },
   "file_extension": ".py",
   "mimetype": "text/x-python",
   "name": "python",
   "nbconvert_exporter": "python",
   "pygments_lexer": "ipython3",
   "version": "3.7.1"
  }
 },
 "nbformat": 4,
 "nbformat_minor": 2
}
