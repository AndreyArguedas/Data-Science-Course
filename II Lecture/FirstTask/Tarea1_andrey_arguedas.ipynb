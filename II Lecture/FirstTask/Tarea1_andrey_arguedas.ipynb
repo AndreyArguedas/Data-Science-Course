{
 "cells": [
  {
   "cell_type": "markdown",
   "metadata": {},
   "source": [
    "## Tarea #1 Minería de Datos"
   ]
  },
  {
   "cell_type": "markdown",
   "metadata": {},
   "source": [
    "## Autor : Andrey Arguedas Espinoza"
   ]
  },
  {
   "cell_type": "markdown",
   "metadata": {},
   "source": [
    "### 1. Dado x = (3,−5,31,−1,−9,10,0,18) y dado y = (1,1,−3,1,−99,−10,10,−7) realice lo siguiente:"
   ]
  },
  {
   "cell_type": "markdown",
   "metadata": {},
   "source": [
    "#### • Introduzca x y y como listas en Python."
   ]
  },
  {
   "cell_type": "code",
   "execution_count": 6,
   "metadata": {},
   "outputs": [
    {
     "name": "stdout",
     "output_type": "stream",
     "text": [
      "[3, -5, 31, -1, -9, 10, 0, 18]\n",
      "[1, 1, -3, 1, -99, -10, 10, -7]\n"
     ]
    }
   ],
   "source": [
    "x = [3,-5,31,-1,-9,10,0,18]\n",
    "y = [1,1,-3,1,-99,-10,10,-7]\n",
    "\n",
    "print(x)\n",
    "print(y)"
   ]
  },
  {
   "cell_type": "markdown",
   "metadata": {},
   "source": [
    "#### • Calcule la media, la varianza y la desviacio´n est´andar de x."
   ]
  },
  {
   "cell_type": "code",
   "execution_count": 19,
   "metadata": {},
   "outputs": [
    {
     "name": "stdout",
     "output_type": "stream",
     "text": [
      "Media -13.25\n",
      "Deviacion estandar 32.89661836724255\n",
      "Varianza 1082.1875\n"
     ]
    }
   ],
   "source": [
    "import numpy as np\n",
    "\n",
    "media = np.mean(y)\n",
    "deviacion = np.std(y)\n",
    "varianza = np.var(y)\n",
    "\n",
    "print(\"Media\", media)\n",
    "print(\"Deviacion estandar\",deviacion)\n",
    "print(\"Varianza\", varianza)"
   ]
  },
  {
   "cell_type": "markdown",
   "metadata": {},
   "source": [
    "#### • Calcule la media, la varianza y la desviacio´n est´andar de x. "
   ]
  },
  {
   "cell_type": "code",
   "execution_count": 8,
   "metadata": {},
   "outputs": [
    {
     "data": {
      "text/plain": [
       "array([[1.        , 0.36596793],\n",
       "       [0.36596793, 1.        ]])"
      ]
     },
     "execution_count": 8,
     "metadata": {},
     "output_type": "execute_result"
    }
   ],
   "source": [
    "np.corrcoef(x, y)"
   ]
  },
  {
   "cell_type": "markdown",
   "metadata": {},
   "source": [
    "#### • Escriba comandos en Python para extraer las entradas 2 a la 7 de x."
   ]
  },
  {
   "cell_type": "code",
   "execution_count": 9,
   "metadata": {},
   "outputs": [
    {
     "data": {
      "text/plain": [
       "[31, -1, -9, 10, 0, 18]"
      ]
     },
     "execution_count": 9,
     "metadata": {},
     "output_type": "execute_result"
    }
   ],
   "source": [
    "x[2:8]"
   ]
  },
  {
   "cell_type": "markdown",
   "metadata": {},
   "source": [
    "#### • Escriba comandos en Python para extraer las entradas de y excepto la 2 y la 7."
   ]
  },
  {
   "cell_type": "code",
   "execution_count": 10,
   "metadata": {},
   "outputs": [
    {
     "data": {
      "text/plain": [
       "[1, 1, 1, -99, -10, 10]"
      ]
     },
     "execution_count": 10,
     "metadata": {},
     "output_type": "execute_result"
    }
   ],
   "source": [
    "list(filter(lambda e : y.index(e) not in (2, 7), y))"
   ]
  },
  {
   "cell_type": "markdown",
   "metadata": {},
   "source": [
    "#### • Escriba comandos en Python para extraer las entradas de y menores a -3 o mayores a 10."
   ]
  },
  {
   "cell_type": "code",
   "execution_count": 11,
   "metadata": {},
   "outputs": [
    {
     "data": {
      "text/plain": [
       "[-99, -10, -7]"
      ]
     },
     "execution_count": 11,
     "metadata": {},
     "output_type": "execute_result"
    }
   ],
   "source": [
    "list(filter(lambda x: x < -3 or x > 10, y))"
   ]
  },
  {
   "cell_type": "markdown",
   "metadata": {},
   "source": [
    "#### • Escriba comandos en Python para extraer las entradas de x mayores a 0 y que sean n´umeros pares"
   ]
  },
  {
   "cell_type": "code",
   "execution_count": 12,
   "metadata": {},
   "outputs": [
    {
     "data": {
      "text/plain": [
       "[10, 18]"
      ]
     },
     "execution_count": 12,
     "metadata": {},
     "output_type": "execute_result"
    }
   ],
   "source": [
    "list(filter(lambda e: e > 0 and e % 2 == 0, x))"
   ]
  },
  {
   "cell_type": "markdown",
   "metadata": {},
   "source": [
    "### 2. Usando c´odigo Python (no archivos) en un DataFrame la siguiente tabla de datos:"
   ]
  },
  {
   "cell_type": "raw",
   "metadata": {},
   "source": [
    "Peso Edad Nivel Educativo\n",
    "76 25 Lic\n",
    "67 23 Bach\n",
    "55 19 Bach\n",
    "57 18 Bach\n",
    "87 57 Dr\n",
    "48 13 MSc"
   ]
  },
  {
   "cell_type": "code",
   "execution_count": 13,
   "metadata": {},
   "outputs": [
    {
     "name": "stdout",
     "output_type": "stream",
     "text": [
      "   Peso  Edad Nivel Educativo\n",
      "0    76    25             Lic\n",
      "1    67    23            Bach\n",
      "2    55    19            Bach\n",
      "3    57    18            Bach\n",
      "4    87    57              Dr\n",
      "5    48    13             MSc\n"
     ]
    }
   ],
   "source": [
    "import pandas as pd\n",
    "\n",
    "datos = {'Peso': [76, 67, 55, 57, 87, 48],\n",
    "         'Edad': [25, 23, 19, 18, 57, 13],\n",
    "         'Nivel Educativo': [\"Lic\", \"Bach\", \"Bach\", \"Bach\", \"Dr\", \"MSc\"]\n",
    "         }\n",
    "datos_pandas = pd.DataFrame(datos)\n",
    "print(datos_pandas)"
   ]
  },
  {
   "cell_type": "markdown",
   "metadata": {},
   "source": [
    "### 3. Genere una hoja de datos (“data frame”) a partir de la siguiente tabla de datos y verifique que las variables tengan el tipo de dato adecuado.\n",
    "\n",
    "id: Identificador ´unico del estudiante.\n",
    "\n",
    "calificacion: Nota o calificaci´on obtenida en una escala descendente de la A a la D.\n",
    "\n",
    "duracion: Cantidad de minutos requeridos para realizar la prueba."
   ]
  },
  {
   "cell_type": "raw",
   "metadata": {},
   "source": [
    "id calificacion duracion\n",
    "1 B 64\n",
    "2 C 85\n",
    "3 B 76\n",
    "4 A 83\n",
    "5 A 80\n",
    "6 A 78\n",
    "7 C 68\n",
    "8 B 82\n",
    "9 A 89\n",
    "10 B 61\n"
   ]
  },
  {
   "cell_type": "code",
   "execution_count": 14,
   "metadata": {},
   "outputs": [
    {
     "name": "stdout",
     "output_type": "stream",
     "text": [
      "   calificacion  duracion\n",
      "id                       \n",
      "1             B        64\n",
      "2             C        85\n",
      "3             B        76\n",
      "4             A        83\n",
      "5             A        80\n",
      "6             A        78\n",
      "7             C        68\n",
      "8             B        82\n",
      "9             A        89\n",
      "10            B        61\n"
     ]
    }
   ],
   "source": [
    "datos = {'calificacion': [\"B\", \"C\", \"B\", \"A\", \"A\", \"A\", \"C\", \"B\", \"A\", \"B\"],\n",
    "         'duracion': [64, 85, 76, 83, 80, 78, 68, 82, 89, 61]\n",
    "         }\n",
    "datos_pandas = pd.DataFrame(datos)\n",
    "datos_pandas.index = np.arange(1,len(datos_pandas)+1)\n",
    "datos_pandas.index.name = \"id\"\n",
    "print(datos_pandas)"
   ]
  },
  {
   "cell_type": "markdown",
   "metadata": {},
   "source": [
    "### 4. Dado x = (24, 28, 29, 18, 95, 97, 90, 72, 87, 85, 74, 9, 40) realice las siguiente operaciones:"
   ]
  },
  {
   "cell_type": "markdown",
   "metadata": {},
   "source": [
    "#### • Indique los ´ındices de los valores o entradas del vector cuya divisi´on entre 2 tiene como\n",
    "resultado 45."
   ]
  },
  {
   "cell_type": "code",
   "execution_count": 15,
   "metadata": {},
   "outputs": [
    {
     "data": {
      "text/plain": [
       "[6]"
      ]
     },
     "execution_count": 15,
     "metadata": {},
     "output_type": "execute_result"
    }
   ],
   "source": [
    "x = (24, 28, 29, 18, 95, 97, 90, 72, 87, 85, 74, 9, 40)\n",
    "indices = []\n",
    "for element in x:\n",
    "    if element / 2 == 45:\n",
    "        indices.append(x.index(element))\n",
    "\n",
    "indices"
   ]
  },
  {
   "cell_type": "markdown",
   "metadata": {},
   "source": [
    "#### •Indique el ´ındice del valor m´as alto del vector."
   ]
  },
  {
   "cell_type": "code",
   "execution_count": 16,
   "metadata": {},
   "outputs": [
    {
     "data": {
      "text/plain": [
       "5"
      ]
     },
     "execution_count": 16,
     "metadata": {},
     "output_type": "execute_result"
    }
   ],
   "source": [
    "x.index(max(x))"
   ]
  },
  {
   "cell_type": "markdown",
   "metadata": {},
   "source": [
    "#### • Indique el resultado de la suma de los valores (entradas del vector) menores a la media del vector.\n"
   ]
  },
  {
   "cell_type": "code",
   "execution_count": 17,
   "metadata": {},
   "outputs": [
    {
     "data": {
      "text/plain": [
       "148"
      ]
     },
     "execution_count": 17,
     "metadata": {},
     "output_type": "execute_result"
    }
   ],
   "source": [
    "from functools import reduce\n",
    "\n",
    "media = np.mean(x)\n",
    "\n",
    "reduce((lambda x, y: x + y), list(filter(lambda e: e < media, x)))"
   ]
  },
  {
   "cell_type": "markdown",
   "metadata": {},
   "source": [
    "#### • Utilizando el operador l´ogico and (“y”l´ogico) indique cu´ales los valores del vector que son mayores a la media del vector y que sean divisibles entre 2.\n"
   ]
  },
  {
   "cell_type": "code",
   "execution_count": 20,
   "metadata": {},
   "outputs": [
    {
     "data": {
      "text/plain": [
       "[90, 72, 74]"
      ]
     },
     "execution_count": 20,
     "metadata": {},
     "output_type": "execute_result"
    }
   ],
   "source": [
    "media = np.mean(x)\n",
    "\n",
    "list(filter(lambda e: e > media and e % 2 == 0, x))"
   ]
  },
  {
   "cell_type": "markdown",
   "metadata": {},
   "source": [
    "### 5. Para las variables almacenadas de la siguiente forma v1 = (2,7,6,4,52), v2 = (7,5,7,0,1)) y v3 = (2,4,3,5,6) usando el comando sum calcule la sumatoria de cada una de esas variables. Repita lo anterior usando un for(...)."
   ]
  },
  {
   "cell_type": "code",
   "execution_count": 23,
   "metadata": {},
   "outputs": [
    {
     "name": "stdout",
     "output_type": "stream",
     "text": [
      "Sum v1 71\n",
      "Sum v2 20\n",
      "Sum v3 20\n",
      "--------------------\n",
      "Suma v1 71\n",
      "Suma v2 20\n",
      "Suma v3 20\n"
     ]
    }
   ],
   "source": [
    "v1 = (2,7,6,4,52)\n",
    "v2 = (7,5,7,0,1)\n",
    "v3 = (2,4,3,5,6)\n",
    "\n",
    "print(\"Sum v1\", sum(v1))\n",
    "\n",
    "print(\"Sum v2\", sum(v2))\n",
    "\n",
    "print(\"Sum v3\", sum(v3))\n",
    "\n",
    "def suma(v):\n",
    "    acum = 0\n",
    "    for i in v:\n",
    "        acum += i\n",
    "    return acum\n",
    "\n",
    "print(\"--------------------\")\n",
    "\n",
    "print(\"Suma v1\", suma(v1))\n",
    "\n",
    "print(\"Suma v2\", suma(v2))\n",
    "\n",
    "print(\"Suma v3\", suma(v3))"
   ]
  },
  {
   "cell_type": "markdown",
   "metadata": {},
   "source": [
    "### 6. Dado x = (24, 28, 29, 18, 95, 97, 90, 72, 87, 85, 74, 9, 40) construya una lista llamada lista1 que tenga 3 campos Media, M´aximo y M´ınimo que tienen la media, el m´aximo y el m´ınimo respectivamente del vector x"
   ]
  },
  {
   "cell_type": "code",
   "execution_count": 24,
   "metadata": {},
   "outputs": [
    {
     "name": "stdout",
     "output_type": "stream",
     "text": [
      "[57.53846153846154, 97, 9]\n"
     ]
    }
   ],
   "source": [
    "x = (24, 28, 29, 18, 95, 97, 90, 72, 87, 85, 74, 9, 40)\n",
    "lista1 = [np.mean(x), max(x), min(x)]\n",
    "print(lista1)"
   ]
  },
  {
   "attachments": {
    "image.png": {
     "image/png": "[encoded data removed]"
    }
   },
   "cell_type": "markdown",
   "metadata": {},
   "source": [
    "![image.png](attachment:image.png)"
   ]
  },
  {
   "cell_type": "code",
   "execution_count": 25,
   "metadata": {
    "scrolled": true
   },
   "outputs": [
    {
     "name": "stdout",
     "output_type": "stream",
     "text": [
      "[[191   5  -4]\n",
      " [ -5  19   9]]\n"
     ]
    }
   ],
   "source": [
    "import numpy as np\n",
    "\n",
    "M1 = np.matrix([[9, 3, 4], [1, 3, -1]])\n",
    "M2 = np.matrix([[91, -3], [1, 8], [-4, 5]])\n",
    "A = M1 + 2 * np.transpose(M2)\n",
    "print(A)"
   ]
  },
  {
   "attachments": {
    "image.png": {
     "image/png": "[encoded data removed]"
    }
   },
   "cell_type": "markdown",
   "metadata": {},
   "source": [
    "![image.png](attachment:image.png)"
   ]
  },
  {
   "cell_type": "code",
   "execution_count": 6,
   "metadata": {
    "scrolled": true
   },
   "outputs": [
    {
     "name": "stdout",
     "output_type": "stream",
     "text": [
      "             VelocidadEntrega  Precio  Durabilidad  ImagenProducto  ValorEducativo  ServicioRetorno  TamanoPaquete  Calidad Producto  NumeroEstrellas\n",
      "Adam                     2.05    0.30         3.45            2.35             2.4              2.3           2.60              2.10              1.7\n",
      "Anna                     0.90    1.50         3.15            3.30             2.5              4.0           4.20              2.15              2.8\n",
      "Bernard                  1.70    2.60         2.85            3.00             4.3              2.7           4.10              2.60              3.3\n",
      "Edward                   1.35    0.50         3.55            2.95             1.8              2.3           3.90              1.95              1.7\n",
      "Emilia                   3.00    0.45         4.80            3.90             3.4              4.6           2.25              3.40              4.3\n",
      "Fabian                   0.95    1.65         3.95            2.40             2.6              1.9           4.85              2.20              3.0\n",
      "Philip                   2.30    1.20         4.75            3.30             3.5              4.5           3.80              2.90              3.1\n",
      "Frank                    0.65    2.10         3.10            2.55             2.8              2.2           3.45              2.15              2.9\n",
      "Xavier                   2.75    0.80         4.70            2.35             3.5              3.0           3.80              2.70              4.8\n",
      "Gabriel                  2.00    1.75         3.25            3.00             3.7              3.2           4.35              2.70              3.9\n",
      "Marisol                  1.20    0.80         4.40            2.40             2.0              2.8           2.90              2.15              1.7\n",
      "Henry                    1.95    1.10         4.55            2.30             3.0              2.5           4.15              2.50              3.2\n",
      "Irene                    1.40    0.70         4.05            1.90             2.1              1.4           3.30              2.20              2.4\n",
      "Isabelle                 1.85    0.75         4.30            2.85             2.7              3.7           3.35              2.50              2.3\n",
      "Isidore                  2.35    0.65         4.95            3.35             3.0              2.6           3.40              2.95              3.9\n",
      "Joseph                   1.70    1.00         4.85            2.35             2.7              1.7           2.40              2.35              3.4\n",
      "Eugene                   1.60    2.05         2.85            2.55             3.6              2.9           3.10              2.20              2.3\n",
      "Eugenia                  2.45    0.90         3.85            2.15             3.4              1.5           2.95              2.80              2.5\n",
      "Eunice                   2.65    0.70         4.85            3.05             3.3              3.9           3.40              2.95              3.9\n",
      "Eva                      2.35    0.65         4.95            3.35             3.0              2.6           3.40              3.00              4.0\n",
      "Evdokia                  1.65    0.45         4.30            2.00             2.1              1.8           3.15              2.25              2.6\n",
      "Fedir                    1.70    0.20         4.15            1.25             1.2              1.7           2.60              1.65              2.0\n",
      "Felix                    1.50    2.00         4.55            3.55             3.5              3.4           4.20              2.60              4.0\n",
      "Fialka                   1.20    0.75         3.35            2.40             1.9              2.5           3.60              1.85              2.1\n",
      "Flavia                   2.55    0.70         4.35            2.40             3.3              2.6           1.90              2.45              3.4\n",
      "Flora                    2.30    1.05         3.95            2.90             3.4              2.8           2.35              2.95              3.4\n",
      "Florent                  1.20    0.75         3.30            2.40             1.9              2.5           3.60              1.85              2.1\n",
      "Florence                 2.60    0.65         4.85            3.05             3.2              3.9           3.35              2.90              3.9\n",
      "Hannah                   1.75    1.40         4.95            1.75             3.1              1.7           2.70              2.70              3.4\n",
      "Helen                    2.05    1.85         2.95            2.75             3.9              3.0           4.20              2.55              3.1\n",
      "...                       ...     ...          ...             ...             ...              ...            ...               ...              ...\n",
      "Maximillian              1.80    2.70         2.95            3.10             4.5              2.9           4.20              2.70              3.5\n",
      "Melania                  2.80    1.10         4.10            1.55             4.0              1.6           2.65              1.95              4.0\n",
      "Methodius                1.80    1.10         4.95            2.40             2.9              1.9           2.45              2.45              3.6\n",
      "Michael                  2.60    0.65         4.55            2.25             3.3              2.7           3.65              2.55              4.5\n",
      "Michaelina               1.50    1.00         3.30            3.30             2.4              2.7           4.10              2.05              2.6\n",
      "Mina                     2.10    1.20         4.70            2.45             3.2              2.7           4.25              2.60              3.4\n",
      "Monica                   1.90    0.40         4.15            3.05             2.2              2.6           2.65              2.55              2.7\n",
      "Mykyta                   1.65    1.30         4.85            1.65             2.9              1.5           2.60              2.55              3.2\n",
      "Myron                    0.50    0.95         3.55            2.25             1.5              3.1           4.95              1.65              2.4\n",
      "Myroslav                 2.25    0.80         4.35            2.30             3.1              2.1           3.40              2.55              4.1\n",
      "Myroslava                2.75    0.90         4.35            1.90             3.6              2.1           2.45              2.25              4.4\n",
      "Salome                   1.70    2.30         2.75            4.10             4.0              4.4           3.15              2.80              3.2\n",
      "Samuel                   0.80    1.40         3.05            3.20             2.3              3.8           4.10              2.05              2.6\n",
      "Sandra                   1.15    1.85         3.80            2.50             3.0              2.5           3.70              2.20              2.2\n",
      "Sarah                    1.30    1.50         4.25            3.00             2.8              2.8           3.40              2.80              3.8\n",
      "Savina                   1.25    1.55         3.50            2.10             2.8              2.2           4.50              1.85              2.8\n",
      "Sebastian                1.20    1.45         4.20            2.95             2.7              2.7           3.35              2.75              3.6\n",
      "Sophia                   1.05    1.75         3.70            2.40             2.8              2.3           3.60              2.15              2.1\n",
      "Stephan                  1.45    0.60         3.65            3.05             2.0              2.5           4.00              2.00              1.9\n",
      "Stephania                2.15    1.25         4.65            3.15             3.4              4.0           3.70              3.05              4.5\n",
      "Susanna                  1.50    1.40         3.90            3.55             3.0              3.8           3.95              2.20              3.4\n",
      "Sylvan                   2.40    0.85         3.80            2.10             3.3              1.4           2.90              2.75              2.4\n",
      "Sylvester                1.55    2.10         2.55            3.90             3.6              4.0           2.95              2.60              2.8\n",
      "Tamara                   0.95    1.35         2.50            2.45             2.2              2.5           4.10              1.80              2.1\n",
      "Theodore                 2.00    0.25         3.35            2.25             2.2              2.1           2.50              2.00              1.6\n",
      "Teofan                   0.30    0.80         3.20            2.50             0.7              2.1           4.20              1.70              1.0\n",
      "Teofil                   3.05    0.25         4.60            2.40             3.3              2.8           3.55              2.60              4.5\n",
      "Teofila                  1.00    1.40         2.60            2.50             2.4              2.7           4.20              1.85              2.3\n",
      "Teon                     1.55    1.10         3.35            3.40             2.6              2.9           4.20              2.15              2.7\n",
      "Teresa                   1.25    0.90         4.50            2.50             2.2              3.0           3.00              2.20              1.8\n",
      "\n",
      "[100 rows x 9 columns]\n"
     ]
    }
   ],
   "source": [
    "import os\n",
    "import pandas as pd\n",
    "os.chdir(\"/Users/Andrey/Desktop/Data-Science-Course/II Lecture/Data\")\n",
    "datos_est = pd.read_csv('EjemploAlgoritmosRecomendacion.csv',delimiter=';',decimal=\",\",index_col=0)\n",
    "print(datos_est)"
   ]
  },
  {
   "attachments": {
    "image.png": {
     "image/png": "[encoded data removed]"
    }
   },
   "cell_type": "markdown",
   "metadata": {},
   "source": [
    "![image.png](attachment:image.png)"
   ]
  },
  {
   "cell_type": "code",
   "execution_count": 7,
   "metadata": {},
   "outputs": [
    {
     "name": "stdout",
     "output_type": "stream",
     "text": [
      "Dimension: 100 x 9\n"
     ]
    }
   ],
   "source": [
    "dimension = datos_est.shape\n",
    "print(\"Dimension: \" + str(dimension[0]) + \" x \" + str(dimension[1]))"
   ]
  },
  {
   "attachments": {
    "image.png": {
     "image/png": "[encoded data removed]"
    }
   },
   "cell_type": "markdown",
   "metadata": {},
   "source": [
    "![image.png](attachment:image.png)"
   ]
  },
  {
   "cell_type": "code",
   "execution_count": 8,
   "metadata": {},
   "outputs": [
    {
     "name": "stdout",
     "output_type": "stream",
     "text": [
      "             VelocidadEntrega\n",
      "Adam                     2.05\n",
      "Anna                     0.90\n",
      "Bernard                  1.70\n",
      "Edward                   1.35\n",
      "Emilia                   3.00\n",
      "Fabian                   0.95\n",
      "Philip                   2.30\n",
      "Frank                    0.65\n",
      "Xavier                   2.75\n",
      "Gabriel                  2.00\n",
      "Marisol                  1.20\n",
      "Henry                    1.95\n",
      "Irene                    1.40\n",
      "Isabelle                 1.85\n",
      "Isidore                  2.35\n",
      "Joseph                   1.70\n",
      "Eugene                   1.60\n",
      "Eugenia                  2.45\n",
      "Eunice                   2.65\n",
      "Eva                      2.35\n",
      "Evdokia                  1.65\n",
      "Fedir                    1.70\n",
      "Felix                    1.50\n",
      "Fialka                   1.20\n",
      "Flavia                   2.55\n",
      "Flora                    2.30\n",
      "Florent                  1.20\n",
      "Florence                 2.60\n",
      "Hannah                   1.75\n",
      "Helen                    2.05\n",
      "...                       ...\n",
      "Maximillian              1.80\n",
      "Melania                  2.80\n",
      "Methodius                1.80\n",
      "Michael                  2.60\n",
      "Michaelina               1.50\n",
      "Mina                     2.10\n",
      "Monica                   1.90\n",
      "Mykyta                   1.65\n",
      "Myron                    0.50\n",
      "Myroslav                 2.25\n",
      "Myroslava                2.75\n",
      "Salome                   1.70\n",
      "Samuel                   0.80\n",
      "Sandra                   1.15\n",
      "Sarah                    1.30\n",
      "Savina                   1.25\n",
      "Sebastian                1.20\n",
      "Sophia                   1.05\n",
      "Stephan                  1.45\n",
      "Stephania                2.15\n",
      "Susanna                  1.50\n",
      "Sylvan                   2.40\n",
      "Sylvester                1.55\n",
      "Tamara                   0.95\n",
      "Theodore                 2.00\n",
      "Teofan                   0.30\n",
      "Teofil                   3.05\n",
      "Teofila                  1.00\n",
      "Teon                     1.55\n",
      "Teresa                   1.25\n",
      "\n",
      "[100 rows x 1 columns]\n"
     ]
    }
   ],
   "source": [
    "print(datos_est.iloc[:,:1])"
   ]
  },
  {
   "attachments": {
    "image.png": {
     "image/png": "[encoded data removed]"
    }
   },
   "cell_type": "markdown",
   "metadata": {},
   "source": [
    "![image.png](attachment:image.png)"
   ]
  },
  {
   "cell_type": "code",
   "execution_count": 9,
   "metadata": {
    "scrolled": true
   },
   "outputs": [
    {
     "name": "stdout",
     "output_type": "stream",
     "text": [
      "<class 'pandas.core.frame.DataFrame'>\n",
      "Index: 100 entries, Adam to Teresa\n",
      "Data columns (total 9 columns):\n",
      "VelocidadEntrega    100 non-null float64\n",
      "Precio              100 non-null float64\n",
      "Durabilidad         100 non-null float64\n",
      "ImagenProducto      100 non-null float64\n",
      "ValorEducativo      100 non-null float64\n",
      "ServicioRetorno     100 non-null float64\n",
      "TamanoPaquete       100 non-null float64\n",
      "Calidad Producto    100 non-null float64\n",
      "NumeroEstrellas     100 non-null float64\n",
      "dtypes: float64(9)\n",
      "memory usage: 7.8+ KB\n"
     ]
    }
   ],
   "source": [
    "datos_est.info()"
   ]
  },
  {
   "attachments": {
    "image.png": {
     "image/png": "[encoded data removed]"
    }
   },
   "cell_type": "markdown",
   "metadata": {},
   "source": [
    "![image.png](attachment:image.png)"
   ]
  },
  {
   "cell_type": "code",
   "execution_count": 11,
   "metadata": {},
   "outputs": [
    {
     "name": "stdout",
     "output_type": "stream",
     "text": [
      "{'VelocidadEntrega': 1.7575000000000012, 'Precio': 1.182, 'Durabilidad': 3.9470000000000005, 'ImagenProducto': 2.6239999999999997, 'ValorEducativo': 2.9160000000000004, 'ServicioRetorno': 2.6649999999999996, 'TamanoPaquete': 3.485499999999999, 'Calidad Producto': 2.3855000000000004, 'NumeroEstrellas': 3.1100000000000008}\n"
     ]
    }
   ],
   "source": [
    "import numpy as np\n",
    "dictionary = {}\n",
    "columns = datos_est.shape[1]\n",
    "for i in range(0,columns):\n",
    "    media = np.mean(datos_est.iloc[:,i])\n",
    "    dictionary[datos_est.columns.values[i]] = media\n",
    "print(dictionary)"
   ]
  },
  {
   "cell_type": "markdown",
   "metadata": {},
   "source": [
    "### 9. Cargue la tabla de datos que está en el archivo SAheartv.csv haga lo siguiente:"
   ]
  },
  {
   "cell_type": "code",
   "execution_count": 12,
   "metadata": {},
   "outputs": [
    {
     "name": "stdout",
     "output_type": "stream",
     "text": [
      "     tobacco    ldl  adiposity  famhist  typea  obesity  alcohol  age chd\n",
      "sbp                                                                      \n",
      "160    12.00   5.73      23.11  Present     49    25.30    97.20   52  Si\n",
      "144     0.01   4.41      28.61   Absent     55    28.87     2.06   63  Si\n",
      "118     0.08   3.48      32.28  Present     52    29.14     3.81   46  No\n",
      "170     7.50   6.41      38.03  Present     51    31.99    24.26   58  Si\n",
      "134    13.60   3.50      27.78  Present     60    25.99    57.34   49  Si\n",
      "132     6.20   6.47      36.21  Present     62    30.77    14.14   45  No\n",
      "142     4.05   3.38      16.20   Absent     59    20.81     2.62   38  No\n",
      "114     4.08   4.59      14.60  Present     62    23.11     6.72   58  Si\n",
      "114     0.00   3.83      19.40  Present     49    24.86     2.49   29  No\n",
      "132     0.00   5.80      30.96  Present     69    30.11     0.00   53  Si\n",
      "206     6.00   2.95      32.27   Absent     72    26.81    56.06   60  Si\n",
      "134    14.10   4.44      22.39  Present     65    23.09     0.00   40  Si\n",
      "118     0.00   1.88      10.05   Absent     59    21.57     0.00   17  No\n",
      "132     0.00   1.87      17.21   Absent     49    23.63     0.97   15  No\n",
      "112     9.65   2.29      17.20  Present     54    23.53     0.68   53  No\n",
      "117     1.53   2.44      28.95  Present     35    25.89    30.03   46  No\n",
      "120     7.50  15.33      22.00   Absent     60    25.31    34.49   49  No\n",
      "146    10.50   8.29      35.36  Present     78    32.73    13.89   53  Si\n",
      "158     2.60   7.46      34.07  Present     61    29.30    53.28   62  Si\n",
      "124    14.00   6.23      35.96  Present     45    30.09     0.00   59  Si\n",
      "106     1.61   1.74      12.32   Absent     74    20.92    13.37   20  Si\n",
      "132     7.90   2.85      26.50  Present     51    26.16    25.71   44  No\n",
      "150     0.30   6.38      33.99  Present     62    24.64     0.00   50  No\n",
      "138     0.60   3.81      28.66   Absent     54    28.70     1.46   58  No\n",
      "142    18.20   4.34      24.38   Absent     61    26.19     0.00   50  No\n",
      "124     4.00  12.42      31.29  Present     54    23.23     2.06   42  Si\n",
      "118     6.00   9.65      33.91   Absent     60    38.80     0.00   48  No\n",
      "145     9.10   5.24      27.55   Absent     59    20.96    21.60   61  Si\n",
      "144     4.09   5.55      31.40  Present     60    29.43     5.55   56  No\n",
      "146     0.00   6.62      25.69   Absent     60    28.07     8.23   63  Si\n",
      "..       ...    ...        ...      ...    ...      ...      ...  ...  ..\n",
      "136     0.00   4.00      19.06   Absent     40    21.94     2.06   16  No\n",
      "120     0.00   2.46      13.39   Absent     47    22.01     0.51   18  No\n",
      "132     0.00   3.55       8.66  Present     61    18.50     3.87   16  No\n",
      "136     0.00   1.77      20.37   Absent     45    21.51     2.06   16  No\n",
      "138     0.00   1.86      18.35  Present     59    25.38     6.51   17  No\n",
      "138     0.06   4.15      20.66   Absent     49    22.59     2.49   16  No\n",
      "130     1.22   3.30      13.65   Absent     50    21.40     3.81   31  No\n",
      "130     4.00   2.40      17.42   Absent     60    22.05     0.00   40  No\n",
      "110     0.00   7.14      28.28   Absent     57    29.00     0.00   32  No\n",
      "120     0.00   3.98      13.19  Present     47    21.89     0.00   16  No\n",
      "166     6.00   8.80      37.89   Absent     39    28.70    43.20   52  No\n",
      "134     0.57   4.75      23.07   Absent     67    26.33     0.00   37  No\n",
      "142     3.00   3.69      25.10   Absent     60    30.08    38.88   27  No\n",
      "136     2.80   2.53       9.28  Present     61    20.70     4.55   25  No\n",
      "142     0.00   4.32      25.22   Absent     47    28.92     6.53   34  Si\n",
      "130     0.00   1.88      12.51  Present     52    20.28     0.00   17  No\n",
      "124     1.80   3.74      16.64  Present     42    22.26    10.49   20  No\n",
      "144     4.00   5.03      25.78  Present     57    27.55    90.00   48  Si\n",
      "136     1.81   3.31       6.74   Absent     63    19.57    24.94   24  No\n",
      "120     0.00   2.77      13.35   Absent     67    23.37     1.03   18  No\n",
      "154     5.53   3.20      28.81  Present     61    26.15    42.79   42  No\n",
      "124     1.60   7.22      39.68  Present     36    31.50     0.00   51  Si\n",
      "146     0.64   4.82      28.02   Absent     60    28.11     8.23   39  Si\n",
      "128     2.24   2.83      26.48   Absent     48    23.96    47.42   27  Si\n",
      "170     0.40   4.11      42.06  Present     56    33.10     2.06   57  No\n",
      "214     0.40   5.98      31.72   Absent     64    28.45     0.00   58  No\n",
      "182     4.20   4.41      32.10   Absent     52    28.61    18.72   52  Si\n",
      "108     3.00   1.59      15.23   Absent     40    20.09    26.64   55  No\n",
      "118     5.40  11.61      30.79   Absent     64    27.35    23.97   40  No\n",
      "132     0.00   4.82      33.41  Present     62    14.70     0.00   46  Si\n",
      "\n",
      "[462 rows x 9 columns]\n"
     ]
    }
   ],
   "source": [
    "import os\n",
    "import pandas as pd\n",
    "os.chdir(\"/Users/Andrey/Desktop/Data-Science-Course/II Lecture/Data\")\n",
    "pd.set_option('display.max_columns', 10)\n",
    "pd.set_option('display.width', 1000)\n",
    "datos_est = pd.read_csv('SAheart.csv',delimiter=';',decimal=\".\",index_col=0)\n",
    "print(datos_est)"
   ]
  },
  {
   "cell_type": "markdown",
   "metadata": {},
   "source": [
    "#### • Calcule la dimensión de la Tabla de Datos."
   ]
  },
  {
   "cell_type": "code",
   "execution_count": 13,
   "metadata": {},
   "outputs": [
    {
     "name": "stdout",
     "output_type": "stream",
     "text": [
      "Dimension: 462 x 9\n"
     ]
    }
   ],
   "source": [
    "dimension = datos_est.shape\n",
    "print(\"Dimension: \" + str(dimension[0]) + \" x \" + str(dimension[1]))"
   ]
  },
  {
   "cell_type": "markdown",
   "metadata": {},
   "source": [
    "#### • Despliegue las primeras 3 columnas de la tabla de datos"
   ]
  },
  {
   "cell_type": "code",
   "execution_count": 14,
   "metadata": {},
   "outputs": [
    {
     "name": "stdout",
     "output_type": "stream",
     "text": [
      "     tobacco    ldl\n",
      "sbp                \n",
      "160    12.00   5.73\n",
      "144     0.01   4.41\n",
      "118     0.08   3.48\n",
      "170     7.50   6.41\n",
      "134    13.60   3.50\n",
      "132     6.20   6.47\n",
      "142     4.05   3.38\n",
      "114     4.08   4.59\n",
      "114     0.00   3.83\n",
      "132     0.00   5.80\n",
      "206     6.00   2.95\n",
      "134    14.10   4.44\n",
      "118     0.00   1.88\n",
      "132     0.00   1.87\n",
      "112     9.65   2.29\n",
      "117     1.53   2.44\n",
      "120     7.50  15.33\n",
      "146    10.50   8.29\n",
      "158     2.60   7.46\n",
      "124    14.00   6.23\n",
      "106     1.61   1.74\n",
      "132     7.90   2.85\n",
      "150     0.30   6.38\n",
      "138     0.60   3.81\n",
      "142    18.20   4.34\n",
      "124     4.00  12.42\n",
      "118     6.00   9.65\n",
      "145     9.10   5.24\n",
      "144     4.09   5.55\n",
      "146     0.00   6.62\n",
      "..       ...    ...\n",
      "136     0.00   4.00\n",
      "120     0.00   2.46\n",
      "132     0.00   3.55\n",
      "136     0.00   1.77\n",
      "138     0.00   1.86\n",
      "138     0.06   4.15\n",
      "130     1.22   3.30\n",
      "130     4.00   2.40\n",
      "110     0.00   7.14\n",
      "120     0.00   3.98\n",
      "166     6.00   8.80\n",
      "134     0.57   4.75\n",
      "142     3.00   3.69\n",
      "136     2.80   2.53\n",
      "142     0.00   4.32\n",
      "130     0.00   1.88\n",
      "124     1.80   3.74\n",
      "144     4.00   5.03\n",
      "136     1.81   3.31\n",
      "120     0.00   2.77\n",
      "154     5.53   3.20\n",
      "124     1.60   7.22\n",
      "146     0.64   4.82\n",
      "128     2.24   2.83\n",
      "170     0.40   4.11\n",
      "214     0.40   5.98\n",
      "182     4.20   4.41\n",
      "108     3.00   1.59\n",
      "118     5.40  11.61\n",
      "132     0.00   4.82\n",
      "\n",
      "[462 rows x 2 columns]\n"
     ]
    }
   ],
   "source": [
    "print(datos_est.iloc[:,:2]) "
   ]
  },
  {
   "cell_type": "code",
   "execution_count": null,
   "metadata": {},
   "outputs": [],
   "source": []
  }
 ],
 "metadata": {
  "kernelspec": {
   "display_name": "Python 3",
   "language": "python",
   "name": "python3"
  },
  "language_info": {
   "codemirror_mode": {
    "name": "ipython",
    "version": 3
   },
   "file_extension": ".py",
   "mimetype": "text/x-python",
   "name": "python",
   "nbconvert_exporter": "python",
   "pygments_lexer": "ipython3",
   "version": "3.7.1"
  }
 },
 "nbformat": 4,
 "nbformat_minor": 2
}
